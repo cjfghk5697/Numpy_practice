{
  "nbformat": 4,
  "nbformat_minor": 0,
  "metadata": {
    "colab": {
      "name": "Untitled4.ipynb",
      "provenance": [],
      "authorship_tag": "ABX9TyOi63PPPT1U2W2MTh/oRmUy",
      "include_colab_link": true
    },
    "kernelspec": {
      "name": "python3",
      "display_name": "Python 3"
    },
    "language_info": {
      "name": "python"
    }
  },
  "cells": [
    {
      "cell_type": "markdown",
      "metadata": {
        "id": "view-in-github",
        "colab_type": "text"
      },
      "source": [
        "<a href=\"https://colab.research.google.com/github/cjfghk5697/Numpy_practice/blob/main/BasicFunction.ipynb\" target=\"_parent\"><img src=\"https://colab.research.google.com/assets/colab-badge.svg\" alt=\"Open In Colab\"/></a>"
      ]
    },
    {
      "cell_type": "code",
      "metadata": {
        "colab": {
          "base_uri": "https://localhost:8080/"
        },
        "id": "otKQSIy72j-2",
        "outputId": "b000bbf8-7e2b-4e08-8d16-6eb944ee6832"
      },
      "source": [
        "import numpy as np\n",
        "\n",
        "#0부터 3까지의 배열 만들기\n",
        "array=np.arange(4)\n",
        "print(array)"
      ],
      "execution_count": 1,
      "outputs": [
        {
          "output_type": "stream",
          "text": [
            "[0 1 2 3]\n"
          ],
          "name": "stdout"
        }
      ]
    },
    {
      "cell_type": "code",
      "metadata": {
        "colab": {
          "base_uri": "https://localhost:8080/"
        },
        "id": "Z_pLFHga2ncQ",
        "outputId": "5658be25-3d4d-4c1b-b8b7-62d4afaee5d2"
      },
      "source": [
        "#4*4 배열, 0으로 채워지고 타입은 float\n",
        "array2= np.zeros((4,4),dtype=float)\n",
        "print(array2)"
      ],
      "execution_count": 2,
      "outputs": [
        {
          "output_type": "stream",
          "text": [
            "[[0. 0. 0. 0.]\n",
            " [0. 0. 0. 0.]\n",
            " [0. 0. 0. 0.]\n",
            " [0. 0. 0. 0.]]\n"
          ],
          "name": "stdout"
        }
      ]
    },
    {
      "cell_type": "code",
      "metadata": {
        "colab": {
          "base_uri": "https://localhost:8080/"
        },
        "id": "WPjW3cD02nYP",
        "outputId": "e2153c97-ac76-421f-9b23-d3d51951575d"
      },
      "source": [
        "# 1로 채움\n",
        "array3= np.ones((4,4),dtype=str)\n",
        "print(array3)"
      ],
      "execution_count": 3,
      "outputs": [
        {
          "output_type": "stream",
          "text": [
            "[['1' '1' '1' '1']\n",
            " ['1' '1' '1' '1']\n",
            " ['1' '1' '1' '1']\n",
            " ['1' '1' '1' '1']]\n"
          ],
          "name": "stdout"
        }
      ]
    },
    {
      "cell_type": "code",
      "metadata": {
        "colab": {
          "base_uri": "https://localhost:8080/"
        },
        "id": "-jp8fIlA2nSU",
        "outputId": "e5833bde-dd92-45c7-e7b1-458d0994d9b7"
      },
      "source": [
        "#0부터 9까지 랜덤하게 초기화 된 배열 만들기\n",
        "array4=np.random.randint(0,10,(3,3))\n",
        "print(array4)"
      ],
      "execution_count": 4,
      "outputs": [
        {
          "output_type": "stream",
          "text": [
            "[[1 6 2]\n",
            " [2 8 9]\n",
            " [8 5 5]]\n"
          ],
          "name": "stdout"
        }
      ]
    },
    {
      "cell_type": "code",
      "metadata": {
        "colab": {
          "base_uri": "https://localhost:8080/"
        },
        "id": "MHj5YUI72nJJ",
        "outputId": "defc7e5f-d93b-4f7f-a174-9306da1094f6"
      },
      "source": [
        "#정규분포 평균 0 표준편차 1\n",
        "array5=np.random.normal(0,1,(3,3))\n",
        "print(array5)"
      ],
      "execution_count": 5,
      "outputs": [
        {
          "output_type": "stream",
          "text": [
            "[[-0.85132267  1.07792536  0.77658765]\n",
            " [-0.45724964 -1.10884778 -0.02202763]\n",
            " [ 1.1057255  -1.92534337  1.31532172]]\n"
          ],
          "name": "stdout"
        }
      ]
    },
    {
      "cell_type": "code",
      "metadata": {
        "colab": {
          "base_uri": "https://localhost:8080/"
        },
        "id": "5tW-Glyf2nCO",
        "outputId": "1c2d1765-d628-4103-b182-c41e49d770ed"
      },
      "source": [
        "#배열 합치기\n",
        "array6=np.array([1,2,3])\n",
        "array7=np.array([4,5,6])\n",
        "array8=np.concatenate([array6,array7])\n",
        "\n",
        "print(array8.shape)\n",
        "print(array8)"
      ],
      "execution_count": 6,
      "outputs": [
        {
          "output_type": "stream",
          "text": [
            "(6,)\n",
            "[1 2 3 4 5 6]\n"
          ],
          "name": "stdout"
        }
      ]
    },
    {
      "cell_type": "code",
      "metadata": {
        "colab": {
          "base_uri": "https://localhost:8080/"
        },
        "id": "ebnf0Yd22m5S",
        "outputId": "4e8fad51-917c-4e98-de0d-37a17987b70e"
      },
      "source": [
        "#배열 형태 바꾸기\n",
        "array9=np.array([1,2,3,4])\n",
        "array10=array9.reshape((2,2))\n",
        "print(array10)"
      ],
      "execution_count": 7,
      "outputs": [
        {
          "output_type": "stream",
          "text": [
            "[[1 2]\n",
            " [3 4]]\n"
          ],
          "name": "stdout"
        }
      ]
    },
    {
      "cell_type": "code",
      "metadata": {
        "colab": {
          "base_uri": "https://localhost:8080/"
        },
        "id": "BNRlTWFD2mRu",
        "outputId": "3ba70dfd-bd1b-4b32-a0ab-3bdc6f65bc33"
      },
      "source": [
        "#배열 세로 축으로 합치기, axis=0(세로)\n",
        "array11=np.arange(4).reshape(1,4)\n",
        "array12=np.arange(8).reshape(2,4)\n",
        "\n",
        "print(array11)\n",
        "print(array12)\n",
        "\n",
        "array13=np.concatenate([array11,array12],axis=0)"
      ],
      "execution_count": 8,
      "outputs": [
        {
          "output_type": "stream",
          "text": [
            "[[0 1 2 3]]\n",
            "[[0 1 2 3]\n",
            " [4 5 6 7]]\n"
          ],
          "name": "stdout"
        }
      ]
    },
    {
      "cell_type": "code",
      "metadata": {
        "colab": {
          "base_uri": "https://localhost:8080/"
        },
        "id": "bk2wJg2v2xSR",
        "outputId": "6d7e1511-ac29-4bac-915f-5ebd5faecfad"
      },
      "source": [
        "#배열 나누기\n",
        "array14=np.arange(8).reshape(2,4)\n",
        "left,right=np.split(array14,[2],axis=1)\n",
        "print(left.shape)\n",
        "print(right.shape)\n",
        "print(left)\n",
        "print(right)"
      ],
      "execution_count": 9,
      "outputs": [
        {
          "output_type": "stream",
          "text": [
            "(2, 2)\n",
            "(2, 2)\n",
            "[[0 1]\n",
            " [4 5]]\n",
            "[[2 3]\n",
            " [6 7]]\n"
          ],
          "name": "stdout"
        }
      ]
    },
    {
      "cell_type": "markdown",
      "metadata": {
        "id": "mTiFbSEm2l6h"
      },
      "source": [
        ""
      ]
    }
  ]
}