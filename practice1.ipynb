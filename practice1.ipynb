{
  "nbformat": 4,
  "nbformat_minor": 0,
  "metadata": {
    "colab": {
      "name": "Untitled19.ipynb",
      "provenance": [],
      "collapsed_sections": [],
      "authorship_tag": "ABX9TyMJkfHwc9LPjoJMbpcjzglT",
      "include_colab_link": true
    },
    "kernelspec": {
      "name": "python3",
      "display_name": "Python 3"
    },
    "language_info": {
      "name": "python"
    }
  },
  "cells": [
    {
      "cell_type": "markdown",
      "metadata": {
        "id": "view-in-github",
        "colab_type": "text"
      },
      "source": [
        "<a href=\"https://colab.research.google.com/github/cjfghk5697/Numpy_practice/blob/main/practice1.ipynb\" target=\"_parent\"><img src=\"https://colab.research.google.com/assets/colab-badge.svg\" alt=\"Open In Colab\"/></a>"
      ]
    },
    {
      "cell_type": "markdown",
      "metadata": {
        "id": "s33kyDpcP5zq"
      },
      "source": [
        "<h1>넘파이 문제 풀기(basicfunction1 보면 풀수 있음)</h1>\n",
        "1. 넘파이 (3,3) 사이즈 배열을 만드시오\n",
        "<br>2. 넘파이 (4,4)를 0과 1로 채워진 float, int 형을 만드시오\n",
        "<br>3. 넘파이 표준편차 1, 평균이 0인 즉 정규분포표에서 (4,4) 사이즈 배열을 만드시오\n",
        "<br>4. (1,2,3,4)인 1차원 배열 넘파이를 ((1,2) (3,4))2차원으로 바꾸시오\n",
        "<br>5. 넘파이 배열 (1,2,3,4)와 (5,6,7,8)을 합치시오\n",
        "<br>6. 5번을 세로로 합치시오\n",
        "<br>7. 6번을 나눠서 원본형태로 돌려놓으시오"
      ]
    },
    {
      "cell_type": "code",
      "metadata": {
        "colab": {
          "base_uri": "https://localhost:8080/"
        },
        "id": "x2c8vjDbP4wR",
        "outputId": "bbc893fa-87ca-45bb-abb1-46a7d50239da"
      },
      "source": [
        "import numpy as np\n",
        "\n",
        "#1번 문제\n",
        "array=np.arange(9).reshape(3,3)\n",
        "print(array)\n"
      ],
      "execution_count": 2,
      "outputs": [
        {
          "output_type": "stream",
          "text": [
            "[[0 1 2]\n",
            " [3 4 5]\n",
            " [6 7 8]]\n"
          ],
          "name": "stdout"
        }
      ]
    },
    {
      "cell_type": "markdown",
      "metadata": {
        "id": "__wGOTSDQnB8"
      },
      "source": [
        "<h1>해석</h1>\n",
        "np.arange(9).reshape(3,3)을 해체(해체철학 아님 ㅋㅋ)해보겠다.\n",
        "일단 np는 넘파이를 가져온거다. 그리고 arange(9)는 0부터 9까지 하나하나 수를 만들어 array배열에 넣어준다. 그다음 reshape 함수는 0부터 9까지 있는 배열을 3*3 배열로 만들어준다. 정말 간단한 코드이다. 하지만 넘파이가 없다면 진짜 개더럽게 하나하나 만들어야한다. "
      ]
    },
    {
      "cell_type": "code",
      "metadata": {
        "colab": {
          "base_uri": "https://localhost:8080/"
        },
        "id": "eArEjZmwShJa",
        "outputId": "9021d04a-768f-4660-d692-c514b40bf5e9"
      },
      "source": [
        "#2번 문제\n",
        "array=np.zeros((4,4),dtype=float)\n",
        "print(array)\n",
        "array=np.ones((4,4),dtype=int)\n",
        "print(array)\n",
        "array=np.ones((4,4),dtype=str)\n",
        "print(array)"
      ],
      "execution_count": null,
      "outputs": [
        {
          "output_type": "stream",
          "text": [
            "[[0. 0. 0. 0.]\n",
            " [0. 0. 0. 0.]\n",
            " [0. 0. 0. 0.]\n",
            " [0. 0. 0. 0.]]\n",
            "[[1 1 1 1]\n",
            " [1 1 1 1]\n",
            " [1 1 1 1]\n",
            " [1 1 1 1]]\n",
            "[['1' '1' '1' '1']\n",
            " ['1' '1' '1' '1']\n",
            " ['1' '1' '1' '1']\n",
            " ['1' '1' '1' '1']]\n"
          ],
          "name": "stdout"
        }
      ]
    },
    {
      "cell_type": "markdown",
      "metadata": {
        "id": "rIyRLmKNS1Di"
      },
      "source": [
        "<h1>해석</h1>\n",
        "zeros는 0을 ones는 1을 넣어준다. dtype은 데이터 타입을 정해준다. 자세히 보면 float 형  0뒤에 .이 있다. 반면 int형은 숫자 그대로 보여준다. 그리고 추가적으로 str을 넣었는데 str에는 ' '있는 걸 확인 할 수 있다."
      ]
    },
    {
      "cell_type": "code",
      "metadata": {
        "colab": {
          "base_uri": "https://localhost:8080/"
        },
        "id": "84z3B3_NRMPf",
        "outputId": "335d35bc-57d9-4623-a133-2ba6291e7ddf"
      },
      "source": [
        "#3번 답\n",
        "array=np.random.normal(0,1,(4,4))\n",
        "print(array)\n",
        "\n",
        "#추가 문제\n",
        "array=np.random.randint(0,9,(4,4))\n",
        "print(array)"
      ],
      "execution_count": null,
      "outputs": [
        {
          "output_type": "stream",
          "text": [
            "[[-0.24670542  1.96642943  0.50971632 -1.31768666]\n",
            " [ 0.03931815 -1.10318917  0.4536639   0.72255716]\n",
            " [ 1.875774   -0.69086223  0.25097857  1.4794537 ]\n",
            " [-2.1785534  -0.40411734  1.12014216  2.25787528]]\n",
            "[[2 2 8 6]\n",
            " [3 1 7 1]\n",
            " [0 1 0 8]\n",
            " [3 3 8 4]]\n"
          ],
          "name": "stdout"
        }
      ]
    },
    {
      "cell_type": "markdown",
      "metadata": {
        "id": "oMRJbV8ERoKp"
      },
      "source": [
        "<h1>해석</h1>\n",
        "2번은 random함수로 정규분포 내에 있는 0~1의 값을 4*4크기 배열로 가져와 만든 것이다. 여기서 필자가 주목한 부분은 1번 문제에서 우리는 배열 크기에 맞춰 arange()로 수를 생성했다. 하지만 여기서는 random이기 때문에 그냥 크기만 써주면 자동으로 하나하나 만들어준다. normal는 정규분포 형식으로 평균 0, 표준편차 1로 만들어준다.\n",
        "\n",
        "<br><br>\n",
        "추가 문제로 random.radint를 넣었는데 이거는 normal 없이 그냥 랜덤 그자체다. 둘다 알아둬야한다."
      ]
    },
    {
      "cell_type": "code",
      "metadata": {
        "colab": {
          "base_uri": "https://localhost:8080/"
        },
        "id": "sigovo6HSaOs",
        "outputId": "32d48a92-015e-4b68-c606-5b29dec67afc"
      },
      "source": [
        "#4번 문제\n",
        "array=np.array([1,2,3,4])\n",
        "array=array.reshape((2,2))\n",
        "print(array)"
      ],
      "execution_count": null,
      "outputs": [
        {
          "output_type": "stream",
          "text": [
            "[[1 2]\n",
            " [3 4]]\n"
          ],
          "name": "stdout"
        }
      ]
    },
    {
      "cell_type": "markdown",
      "metadata": {
        "id": "AOAsXgIV6hb1"
      },
      "source": [
        "<h1>해석</h1>\n",
        "(1,2,3,4) 모습인 배열을 reshape((2,2))를 이용해 2차원 배열로 만들었다. 중요한점은 reshape()안에 괄호를 또 넣어야한다는 점이다."
      ]
    },
    {
      "cell_type": "code",
      "metadata": {
        "colab": {
          "base_uri": "https://localhost:8080/"
        },
        "id": "cm7rnF8bbClJ",
        "outputId": "799d1dd3-0407-4ca5-d542-982a1d5abe8d"
      },
      "source": [
        "#5번 문제\n",
        "array1=np.array([1,2,3,4])\n",
        "array2=np.array([5,6,7,8])\n",
        "array=np.concatenate([array1,array2])\n",
        "print(array)\n"
      ],
      "execution_count": null,
      "outputs": [
        {
          "output_type": "stream",
          "text": [
            "[1 2 3 4 5 6 7 8]\n"
          ],
          "name": "stdout"
        }
      ]
    },
    {
      "cell_type": "markdown",
      "metadata": {
        "id": "X9IqehrY6wOk"
      },
      "source": [
        "<h1>해석</h1>\n",
        "array1,array2를 concatenate함수를 이용해 배열을 합쳤다."
      ]
    },
    {
      "cell_type": "code",
      "metadata": {
        "colab": {
          "base_uri": "https://localhost:8080/"
        },
        "id": "XmKPi5Zw68vR",
        "outputId": "6833c5e7-8f11-4b6c-9851-4d10deccc3c6"
      },
      "source": [
        "#6번 문제\n",
        "array1=np.arange(4).reshape(1,4)\n",
        "array2=np.arange(8).reshape(2,4)\n",
        "\n",
        "print(array1)\n",
        "print(array2)\n",
        "\n",
        "array=np.concatenate([array1,array2],axis=0)\n",
        "print(array)"
      ],
      "execution_count": 14,
      "outputs": [
        {
          "output_type": "stream",
          "text": [
            "[[0 1 2 3]]\n",
            "[[0 1 2 3]\n",
            " [4 5 6 7]]\n",
            "[[0 1 2 3]\n",
            " [0 1 2 3]\n",
            " [4 5 6 7]]\n"
          ],
          "name": "stdout"
        }
      ]
    },
    {
      "cell_type": "markdown",
      "metadata": {
        "id": "wHDnhWf57Shv"
      },
      "source": [
        "<h1>해석</h1>\n",
        "axis를 이용해 세로, 가로 합치는 것을 활용 할 수 있다. "
      ]
    },
    {
      "cell_type": "code",
      "metadata": {
        "colab": {
          "base_uri": "https://localhost:8080/"
        },
        "id": "xlrfmbGU7l6k",
        "outputId": "8aafb821-6028-40df-8cfb-a7bcb4ed1812"
      },
      "source": [
        "array3,array4=np.split(array,2,axis=1)\n",
        "print(array3,\"\\n\",array4)\n",
        "\n"
      ],
      "execution_count": 18,
      "outputs": [
        {
          "output_type": "stream",
          "text": [
            "[[0 1]\n",
            " [0 1]\n",
            " [4 5]] \n",
            " [[2 3]\n",
            " [2 3]\n",
            " [6 7]]\n"
          ],
          "name": "stdout"
        }
      ]
    },
    {
      "cell_type": "markdown",
      "metadata": {
        "id": "4dHZ3r_j8sU9"
      },
      "source": [
        "<h1>해석</h1>\n",
        "split으로 2개로 나눴다 가로로\n"
      ]
    }
  ]
}