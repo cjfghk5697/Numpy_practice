{
  "nbformat": 4,
  "nbformat_minor": 0,
  "metadata": {
    "colab": {
      "name": "Untitled5.ipynb",
      "provenance": [],
      "authorship_tag": "ABX9TyPcEHuXRG0Hyvs9BSPG8i9t",
      "include_colab_link": true
    },
    "kernelspec": {
      "name": "python3",
      "display_name": "Python 3"
    },
    "language_info": {
      "name": "python"
    }
  },
  "cells": [
    {
      "cell_type": "markdown",
      "metadata": {
        "id": "view-in-github",
        "colab_type": "text"
      },
      "source": [
        "<a href=\"https://colab.research.google.com/github/cjfghk5697/Numpy_practice/blob/main/BasicFunction2.ipynb\" target=\"_parent\"><img src=\"https://colab.research.google.com/assets/colab-badge.svg\" alt=\"Open In Colab\"/></a>"
      ]
    },
    {
      "cell_type": "code",
      "metadata": {
        "colab": {
          "base_uri": "https://localhost:8080/"
        },
        "id": "VAM2VkUK3tRO",
        "outputId": "4f8b3442-51fe-42c5-ea2e-a26c38aa6fe9"
      },
      "source": [
        "import numpy as np\n",
        "#브로드캐스트: 형태가 다른 배열을 연산할 수 있도록 배열의 형태를 동적으로 변환\n",
        "array1=np.arange(4).reshape(2,2)\n",
        "array2=np.arange(2)\n",
        "\n",
        "array3=array1+array2\n",
        "\n",
        "print(array3)"
      ],
      "execution_count": 1,
      "outputs": [
        {
          "output_type": "stream",
          "text": [
            "[[0 2]\n",
            " [2 4]]\n"
          ],
          "name": "stdout"
        }
      ]
    },
    {
      "cell_type": "code",
      "metadata": {
        "colab": {
          "base_uri": "https://localhost:8080/"
        },
        "id": "ANF1VY7f4L15",
        "outputId": "0784f123-7fc9-445a-f022-4e0e7dd37ad5"
      },
      "source": [
        "#세로축으로 \n",
        "array4=np.arange(0,8).reshape(2,4)\n",
        "array5=np.arange(0,8).reshape(2,4)\n",
        "array6=np.concatenate([array4,array5],axis=0)\n",
        "\n",
        "print(array6)\n",
        "#array6에 4x1크기 더하기 여기서 브로드캐스트 확인가능\n",
        "array5=np.arange(0,4).reshape(4,1)\n",
        "\n",
        "print(array5+array6)"
      ],
      "execution_count": 3,
      "outputs": [
        {
          "output_type": "stream",
          "text": [
            "[[0 1 2 3]\n",
            " [4 5 6 7]\n",
            " [0 1 2 3]\n",
            " [4 5 6 7]]\n"
          ],
          "name": "stdout"
        }
      ]
    },
    {
      "cell_type": "code",
      "metadata": {
        "colab": {
          "base_uri": "https://localhost:8080/"
        },
        "id": "oYBivReV485m",
        "outputId": "7e69f4dc-742b-443b-b2de-ab3a380d26e1"
      },
      "source": [
        "#마스킹 연산: 각원소를 체크\n",
        "array7=np.arange(16).reshape(4,4)\n",
        "print(array7)\n",
        "\n",
        "array8=array7<10\n",
        "print(array8)\n",
        "#True 값들 100으로 바꾸기\n",
        "array7[array8]=100\n",
        "print(array7)"
      ],
      "execution_count": 8,
      "outputs": [
        {
          "output_type": "stream",
          "text": [
            "[[ 0  1  2  3]\n",
            " [ 4  5  6  7]\n",
            " [ 8  9 10 11]\n",
            " [12 13 14 15]]\n",
            "[[ True  True  True  True]\n",
            " [ True  True  True  True]\n",
            " [ True  True False False]\n",
            " [False False False False]]\n",
            "[[100 100 100 100]\n",
            " [100 100 100 100]\n",
            " [100 100  10  11]\n",
            " [ 12  13  14  15]]\n"
          ],
          "name": "stdout"
        }
      ]
    },
    {
      "cell_type": "code",
      "metadata": {
        "colab": {
          "base_uri": "https://localhost:8080/"
        },
        "id": "p7X6rvAH5sju",
        "outputId": "1fddcf10-e9df-4d03-c7ba-91ae8eb231f7"
      },
      "source": [
        "#넘파이 집계함수 \n",
        "array9=np.arange(16).reshape(4,4)\n",
        "\n",
        "print(\"최대값\",np.max(array9))\n",
        "print(\"최소값\",np.min(array9))\n",
        "print(\"총합\",np.sum(array9))\n",
        "print(\"평균\",np.mean(array9))"
      ],
      "execution_count": 11,
      "outputs": [
        {
          "output_type": "stream",
          "text": [
            "최대값 15\n",
            "최소값 0\n",
            "총합 120\n",
            "평균 7.5\n"
          ],
          "name": "stdout"
        }
      ]
    },
    {
      "cell_type": "code",
      "metadata": {
        "colab": {
          "base_uri": "https://localhost:8080/"
        },
        "id": "swcitpUa6i_9",
        "outputId": "2bb41e0e-84d3-4c79-c350-4ec5f09aa987"
      },
      "source": [
        "#넘파이 집계함수 (세로축으로 하기)\n",
        "\n",
        "print(\"최대값\",np.max(array9, axis=0))\n",
        "print(\"최소값\",np.min(array9, axis=0))\n",
        "print(\"총합\",np.sum(array9, axis=0))\n",
        "print(\"평균\",np.mean(array9, axis=0))"
      ],
      "execution_count": 12,
      "outputs": [
        {
          "output_type": "stream",
          "text": [
            "최대값 [12 13 14 15]\n",
            "최소값 [0 1 2 3]\n",
            "총합 [24 28 32 36]\n",
            "평균 [6. 7. 8. 9.]\n"
          ],
          "name": "stdout"
        }
      ]
    }
  ]
}