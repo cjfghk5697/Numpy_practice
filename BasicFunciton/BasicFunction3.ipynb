{
  "nbformat": 4,
  "nbformat_minor": 0,
  "metadata": {
    "colab": {
      "name": "Untitled6.ipynb",
      "provenance": [],
      "authorship_tag": "ABX9TyPeV127En/lpIQnibbXsEWT",
      "include_colab_link": true
    },
    "kernelspec": {
      "name": "python3",
      "display_name": "Python 3"
    },
    "language_info": {
      "name": "python"
    }
  },
  "cells": [
    {
      "cell_type": "markdown",
      "metadata": {
        "id": "view-in-github",
        "colab_type": "text"
      },
      "source": [
        "<a href=\"https://colab.research.google.com/github/cjfghk5697/Numpy_practice/blob/main/BasicFunction3.ipynb\" target=\"_parent\"><img src=\"https://colab.research.google.com/assets/colab-badge.svg\" alt=\"Open In Colab\"/></a>"
      ]
    },
    {
      "cell_type": "code",
      "metadata": {
        "colab": {
          "base_uri": "https://localhost:8080/"
        },
        "id": "F6WL1p3H503f",
        "outputId": "f1a1f346-94fa-47ed-b250-59b87fec32e5"
      },
      "source": [
        "#numpy 저장과 불러오기 ex) seave_.npy\n",
        "\n",
        "import numpy as np\n",
        "\n",
        "#e단일 객체 저장 및 불러오기\n",
        "array=np.arange(0,10)\n",
        "np.save('saved.npy',array)\n",
        "\n",
        "result=np.load('saved.npy')\n",
        "print(result)"
      ],
      "execution_count": 1,
      "outputs": [
        {
          "output_type": "stream",
          "text": [
            "[0 1 2 3 4 5 6 7 8 9]\n"
          ],
          "name": "stdout"
        }
      ]
    },
    {
      "cell_type": "code",
      "metadata": {
        "colab": {
          "base_uri": "https://localhost:8080/"
        },
        "id": "PGfGL6ak6Q-I",
        "outputId": "5f4e17cd-0db3-490b-c674-97d4ad22075b"
      },
      "source": [
        "#복수 객체 저장 및 불러오기\n",
        "\n",
        "array1=np.arange(0,10)\n",
        "array2=np.arange(10,20)\n",
        "np.savez('saved.npz', array1=array1,array2=array2)\n",
        "\n",
        "data=np.load('saved.npz')\n",
        "result1= data['array1']\n",
        "result2=data['array2']\n",
        "print(result1)\n",
        "print(result2)"
      ],
      "execution_count": 3,
      "outputs": [
        {
          "output_type": "stream",
          "text": [
            "[0 1 2 3 4 5 6 7 8 9]\n",
            "[10 11 12 13 14 15 16 17 18 19]\n"
          ],
          "name": "stdout"
        }
      ]
    },
    {
      "cell_type": "code",
      "metadata": {
        "colab": {
          "base_uri": "https://localhost:8080/"
        },
        "id": "nzfN4nRA6x5H",
        "outputId": "d397a23c-88a2-44bb-f5aa-b97a2f3cfc51"
      },
      "source": [
        "#numpy원소 오름차순 정렬\n",
        "\n",
        "array3= np.array([5,9,10,3,1])\n",
        "array3.sort()\n",
        "print(array3)\n",
        "#nummpy 내림차순\n",
        "print(array3[::-1])"
      ],
      "execution_count": 5,
      "outputs": [
        {
          "output_type": "stream",
          "text": [
            "[ 1  3  5  9 10]\n",
            "[10  9  5  3  1]\n"
          ],
          "name": "stdout"
        }
      ]
    },
    {
      "cell_type": "code",
      "metadata": {
        "colab": {
          "base_uri": "https://localhost:8080/"
        },
        "id": "ulqaSt7p7Nl4",
        "outputId": "bfe2bef5-4a9b-4553-9d6b-7b3e48902d29"
      },
      "source": [
        "#열기준 정렬\n",
        "array4=np.array([[5,9,10,3,1],[8,3,4,2,5]])\n",
        "print(array4)\n",
        "array4.sort(axis=0)\n",
        "print(array4)"
      ],
      "execution_count": 6,
      "outputs": [
        {
          "output_type": "stream",
          "text": [
            "[[ 5  9 10  3  1]\n",
            " [ 8  3  4  2  5]]\n",
            "[[ 5  3  4  2  1]\n",
            " [ 8  9 10  3  5]]\n"
          ],
          "name": "stdout"
        }
      ]
    },
    {
      "cell_type": "code",
      "metadata": {
        "colab": {
          "base_uri": "https://localhost:8080/"
        },
        "id": "b5XNOaHA7i9q",
        "outputId": "84ac5ec1-fbf6-431a-9b84-75ef5a32bc47"
      },
      "source": [
        "# 균일한 간격으로 데이터 생성\n",
        "array5=np.linspace(0,10,5)\n",
        "print(array5)"
      ],
      "execution_count": 8,
      "outputs": [
        {
          "output_type": "stream",
          "text": [
            "[ 0.   2.5  5.   7.5 10. ]\n"
          ],
          "name": "stdout"
        }
      ]
    },
    {
      "cell_type": "code",
      "metadata": {
        "colab": {
          "base_uri": "https://localhost:8080/"
        },
        "id": "m7Q4SMVH7tno",
        "outputId": "b465ed6f-a94b-4d01-e04a-ad392f683507"
      },
      "source": [
        "#난수의 재연(실행마다 결과 동일)\n",
        "np.random.seed(7)\n",
        "print(np.random.randint(0,10,(2,3)))"
      ],
      "execution_count": 11,
      "outputs": [
        {
          "output_type": "stream",
          "text": [
            "[[4 9 6]\n",
            " [3 3 7]]\n"
          ],
          "name": "stdout"
        }
      ]
    },
    {
      "cell_type": "code",
      "metadata": {
        "colab": {
          "base_uri": "https://localhost:8080/"
        },
        "id": "JgB4_ot673kn",
        "outputId": "28938713-c277-4d54-e863-463b211a6744"
      },
      "source": [
        "#numpy 배열 객체 복사\n",
        "array6=np.arange(0,10)\n",
        "array7=array6\n",
        "array7[0]=99\n",
        "print(array6)\n",
        "#위처럼 쓰면 array6과 array7 주소 같아서 하나라도 바뀌면 동일하게 바뀜\n",
        "array6=np.arange(0,10)\n",
        "array7=array6.copy()\n",
        "array7[0]=99\n",
        "print(array6)"
      ],
      "execution_count": 15,
      "outputs": [
        {
          "output_type": "stream",
          "text": [
            "[99  1  2  3  4  5  6  7  8  9]\n",
            "[0 1 2 3 4 5 6 7 8 9]\n"
          ],
          "name": "stdout"
        }
      ]
    },
    {
      "cell_type": "code",
      "metadata": {
        "colab": {
          "base_uri": "https://localhost:8080/"
        },
        "id": "A5tyMYre8jzo",
        "outputId": "e413bd6b-3127-4c43-a4b0-0db18f699bcc"
      },
      "source": [
        "#numpy 중복 값 삭제\n",
        "array10=np.array([1,1,2,2,2,3,3,4])\n",
        "print(np.unique(array10))"
      ],
      "execution_count": 16,
      "outputs": [
        {
          "output_type": "stream",
          "text": [
            "[1 2 3 4]\n"
          ],
          "name": "stdout"
        }
      ]
    },
    {
      "cell_type": "code",
      "metadata": {
        "id": "bsoe2IQq8Uin"
      },
      "source": [
        ""
      ],
      "execution_count": null,
      "outputs": []
    }
  ]
}