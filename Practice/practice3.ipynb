{
  "nbformat": 4,
  "nbformat_minor": 0,
  "metadata": {
    "colab": {
      "name": "practice3.ipynb",
      "provenance": [],
      "authorship_tag": "ABX9TyNdkB04+s7JLltAYbn3Dfj2",
      "include_colab_link": true
    },
    "kernelspec": {
      "name": "python3",
      "display_name": "Python 3"
    },
    "language_info": {
      "name": "python"
    }
  },
  "cells": [
    {
      "cell_type": "markdown",
      "metadata": {
        "id": "view-in-github",
        "colab_type": "text"
      },
      "source": [
        "<a href=\"https://colab.research.google.com/github/cjfghk5697/Numpy_practice/blob/main/practice3.ipynb\" target=\"_parent\"><img src=\"https://colab.research.google.com/assets/colab-badge.svg\" alt=\"Open In Colab\"/></a>"
      ]
    },
    {
      "cell_type": "markdown",
      "metadata": {
        "id": "kYxAOjeK8L-s"
      },
      "source": [
        "<h1>넘파이 문제 풀기(basicfunction3 보면 풀수 있음)</h1>\n",
        "1. numpy 저장과 불러오기\n",
        "<br>2. numpy 정렬\n",
        "<br>3. 균일한 간격으로 데이터 생성\n",
        "<br>4. 난수의 재연(실행마다 결과 동일)\n",
        "<br>5.numpy 배열 객체 복사\n",
        "<br>6. numpy 중복 값 삭제\n"
      ]
    },
    {
      "cell_type": "code",
      "metadata": {
        "colab": {
          "base_uri": "https://localhost:8080/"
        },
        "id": "dDcvCbYP8HgM",
        "outputId": "ef067f74-fa94-48eb-8847-655c054d6ccc"
      },
      "source": [
        "#1번\n",
        "import numpy as np\n",
        "array=np.arange(6)\n",
        "np.save('save.npy',array)\n",
        "array1=np.arange(3)\n",
        "np.savez('saved.npz',array1=array1,array=array)\n",
        "\n",
        "data=np.load('saved.npz')\n",
        "print(data)\n",
        "result1=data['array1']\n",
        "result2=data['array']\n",
        "print(result1)\n",
        "print(result2)"
      ],
      "execution_count": 4,
      "outputs": [
        {
          "output_type": "stream",
          "text": [
            "<numpy.lib.npyio.NpzFile object at 0x7f044b52f710>\n",
            "[0 1 2]\n",
            "[0 1 2 3 4 5]\n"
          ],
          "name": "stdout"
        }
      ]
    },
    {
      "cell_type": "markdown",
      "metadata": {
        "id": "ntpFb872A68_"
      },
      "source": [
        "<h1>해석</h1>\n",
        "save, 파일 형식 npy-배열 하나<br>\n",
        "savez, 파일 형식 npz-배열 여러개\n",
        "<br>load함수로 배열을 가져올 수 있다.\n"
      ]
    },
    {
      "cell_type": "code",
      "metadata": {
        "colab": {
          "base_uri": "https://localhost:8080/"
        },
        "id": "VayDtzVQBMOv",
        "outputId": "ff6a2c08-fcea-4069-c3f2-b40ae31698cd"
      },
      "source": [
        "#2번\n",
        "array= np.array([5,9,10,3,1])\n",
        "array.sort()\n",
        "print(array)\n",
        "print(array[::-1])"
      ],
      "execution_count": 5,
      "outputs": [
        {
          "output_type": "stream",
          "text": [
            "[ 1  3  5  9 10]\n",
            "[10  9  5  3  1]\n"
          ],
          "name": "stdout"
        }
      ]
    },
    {
      "cell_type": "markdown",
      "metadata": {
        "id": "1pBLSNwmBqUG"
      },
      "source": [
        "<h1>해석</h1>\n",
        "sort()는 정렬을 해주고 오름차순이다. 원래는 reverse=true로 내림차순이 가능하다. 하지만 array[::-1]을 이용해서 내림차순도 가능하다."
      ]
    },
    {
      "cell_type": "code",
      "metadata": {
        "colab": {
          "base_uri": "https://localhost:8080/"
        },
        "id": "Fl1kmLS6BokB",
        "outputId": "f3d7476b-9872-468e-84b1-1d55f0800f94"
      },
      "source": [
        "#3번\n",
        "array=np.linspace(0,10,5)\n",
        "print(array)"
      ],
      "execution_count": 7,
      "outputs": [
        {
          "output_type": "stream",
          "text": [
            "[ 0.   2.5  5.   7.5 10. ]\n"
          ],
          "name": "stdout"
        }
      ]
    },
    {
      "cell_type": "markdown",
      "metadata": {
        "id": "MqKO_S3-CgkD"
      },
      "source": [
        "<h1>해석</h1>\n",
        "arange함수는 0부터 1씩 증가하여 배열을 채운다. 하지만 linspace는 쪼개어 배열을 채운다는 점에서 차이가 있다. "
      ]
    },
    {
      "cell_type": "code",
      "metadata": {
        "colab": {
          "base_uri": "https://localhost:8080/"
        },
        "id": "rAjf4yTsCq2M",
        "outputId": "4c844b3c-e06e-42ae-9489-2d76cf2dfa64"
      },
      "source": [
        "#4번\n",
        "np.random.seed(7)\n",
        "print(np.random.randint(0,10,(2,3)))"
      ],
      "execution_count": 8,
      "outputs": [
        {
          "output_type": "stream",
          "text": [
            "[[4 9 6]\n",
            " [3 3 7]]\n"
          ],
          "name": "stdout"
        }
      ]
    },
    {
      "cell_type": "markdown",
      "metadata": {
        "id": "O1Jb_HGECxDn"
      },
      "source": [
        "<h1>해석</h1>\n",
        "seed로 언제나 결과가 똑같이 나온다."
      ]
    },
    {
      "cell_type": "code",
      "metadata": {
        "colab": {
          "base_uri": "https://localhost:8080/"
        },
        "id": "QkQw6nTgC28k",
        "outputId": "65725ad4-f554-472b-df38-afc52afc6e12"
      },
      "source": [
        "#5번\n",
        "\n",
        "#numpy 배열 객체 복사\n",
        "array=np.arange(0,10)\n",
        "array1=array\n",
        "array1[0]=99\n",
        "print(array)\n",
        "#위처럼 쓰면 array6과 array7 주소 같아서 하나라도 바뀌면 동일하게 바뀜\n",
        "array=np.arange(0,10)\n",
        "array1=array.copy()\n",
        "array1[0]=99\n",
        "print(array)"
      ],
      "execution_count": 9,
      "outputs": [
        {
          "output_type": "stream",
          "text": [
            "[99  1  2  3  4  5  6  7  8  9]\n",
            "[0 1 2 3 4 5 6 7 8 9]\n"
          ],
          "name": "stdout"
        }
      ]
    },
    {
      "cell_type": "markdown",
      "metadata": {
        "id": "_5HGpHJ4DDJK"
      },
      "source": [
        "<h1>해석</h1>\n",
        "그냥 array1=array하면 두개의 주소가 같아서 하나라도 바뀌면 동시에 바뀐다. 하지만 .copy()함수를 이용하면 다르게 바뀐다. "
      ]
    }
  ]
}